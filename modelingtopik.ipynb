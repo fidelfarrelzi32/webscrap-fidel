{
 "cells": [
  {
   "cell_type": "code",
   "execution_count": 1,
   "metadata": {},
   "outputs": [],
   "source": [
    "import pandas as pd\n",
    "\n",
    "# Membaca file CSV\n",
    "data = pd.read_csv('tweets.csv')\n",
    "teks = data['tweet']  # Ganti 'kolom_teks' dengan nama kolom yang sesuai"
   ]
  },
  {
   "cell_type": "code",
   "execution_count": 2,
   "metadata": {},
   "outputs": [
    {
     "name": "stderr",
     "output_type": "stream",
     "text": [
      "[nltk_data] Downloading package stopwords to\n",
      "[nltk_data]     C:\\Users\\elsam\\AppData\\Roaming\\nltk_data...\n",
      "[nltk_data]   Package stopwords is already up-to-date!\n"
     ]
    }
   ],
   "source": [
    "import nltk\n",
    "from nltk.corpus import stopwords\n",
    "from nltk.tokenize import word_tokenize\n",
    "import re\n",
    "\n",
    "nltk.download('stopwords')\n",
    "stop_words = set(stopwords.words('indonesian'))\n",
    "\n",
    "def preprocessing(teks):\n",
    "    teks = re.sub(r'\\W', ' ', teks)  # Menghapus karakter non-kata\n",
    "    teks = teks.lower()  # Mengubah ke huruf kecil\n",
    "    teks = word_tokenize(teks)  # Tokenisasi\n",
    "    teks = [word for word in teks if word not in stop_words]  # Menghapus stopwords\n",
    "    return ' '.join(teks)\n",
    "\n",
    "cleaned_texts = teks.apply(preprocessing)"
   ]
  },
  {
   "cell_type": "code",
   "execution_count": 3,
   "metadata": {},
   "outputs": [],
   "source": [
    "from gensim import corpora\n",
    "from gensim.models import LdaModel\n",
    "\n",
    "# Membuat dictionary dan corpus\n",
    "dictionary = corpora.Dictionary(cleaned_texts.str.split())\n",
    "corpus = [dictionary.doc2bow(text.split()) for text in cleaned_texts]\n",
    "\n",
    "# Menerapkan LDA\n",
    "lda_model = LdaModel(corpus, num_topics=5, id2word=dictionary, passes=15)"
   ]
  },
  {
   "cell_type": "code",
   "execution_count": 4,
   "metadata": {},
   "outputs": [
    {
     "name": "stdout",
     "output_type": "stream",
     "text": [
      "Topik 0: 0.062*\"ui\" + 0.062*\"green\" + 0.062*\"administrasi\" + 0.062*\"fia\" + 0.062*\"ilmu\" + 0.062*\"berkonsep\" + 0.062*\"fakultas\" + 0.062*\"building\" + 0.062*\"meresmikan\" + 0.061*\"gedung\"\n",
      "Topik 1: 0.025*\"indonesia\" + 0.025*\"universitas\" + 0.025*\"rektor\" + 0.025*\"soemantri\" + 0.025*\"brodjonegoro\" + 0.025*\"teknologi\" + 0.025*\"pendidikan\" + 0.017*\"menteri\" + 0.017*\"mendiktisaintek\" + 0.017*\"ayahnya\"\n",
      "Topik 2: 0.061*\"desa\" + 0.061*\"kampus\" + 0.059*\"riza\" + 0.059*\"wamendes\" + 0.059*\"ahmad\" + 0.059*\"keterlibatan\" + 0.059*\"patria\" + 0.059*\"percepatan\" + 0.059*\"pdt\" + 0.059*\"pembangunan\"\n",
      "Topik 3: 0.031*\"univ_indonesia\" + 0.031*\"pati\" + 0.017*\"yg\" + 0.017*\"ui\" + 0.017*\"ca\" + 0.017*\"kasih\" + 0.017*\"jd\" + 0.017*\"ccccaacaca\" + 0.017*\"paham\" + 0.017*\"lu\"\n",
      "Topik 4: 0.057*\"co\" + 0.057*\"https\" + 0.057*\"t\" + 0.049*\"rektor\" + 0.046*\"indonesia\" + 0.034*\"universitas\" + 0.023*\"selamat\" + 0.016*\"2025\" + 0.016*\"hermansyah\" + 0.016*\"heri\"\n"
     ]
    }
   ],
   "source": [
    "for idx, topic in lda_model.print_topics(-1):\n",
    "    print(f'Topik {idx}: {topic}')"
   ]
  },
  {
   "cell_type": "code",
   "execution_count": 5,
   "metadata": {},
   "outputs": [],
   "source": [
    "topic_distribution = [lda_model.get_document_topics(bow) for bow in corpus]\n",
    "# Analisis lebih lanjut untuk menemukan topik yang paling banyak dibahas"
   ]
  },
  {
   "cell_type": "code",
   "execution_count": 8,
   "metadata": {},
   "outputs": [
    {
     "name": "stdout",
     "output_type": "stream",
     "text": [
      "5 Topik Paling Banyak Dibahas:\n",
      "Topik 4: 76 dokumen\n",
      "Topik 2: 75 dokumen\n",
      "Topik 1: 74 dokumen\n",
      "Topik 0: 73 dokumen\n",
      "Topik 3: 73 dokumen\n",
      "\n",
      "Kata Kunci untuk Setiap Topik:\n",
      "Topik 0: 0.062*\"ui\" + 0.062*\"green\" + 0.062*\"administrasi\"\n",
      "Topik 1: 0.025*\"indonesia\" + 0.025*\"universitas\" + 0.025*\"rektor\"\n",
      "Topik 2: 0.061*\"desa\" + 0.061*\"kampus\" + 0.059*\"riza\"\n",
      "Topik 3: 0.031*\"univ_indonesia\" + 0.031*\"pati\" + 0.017*\"yg\"\n",
      "Topik 4: 0.057*\"co\" + 0.057*\"https\" + 0.057*\"t\"\n",
      "\n",
      "Dokumen Relevan untuk Topik Teratas:\n",
      "\n",
      "Dokumen untuk Topik 4:\n",
      "- RT @datatempo: Ternyata ayahnya Menteri Pendidikan Tinggi, Sains, dan Teknologi (Mendiktisaintek) Satryo Soemantri Brodjonegoro pernah menj…\n",
      "- Ternyata ayahnya Menteri Pendidikan Tinggi, Sains, dan Teknologi (Mendiktisaintek) Satryo Soemantri Brodjonegoro pernah menjadi Rektor Universitas Indonesia, yaitu SOEMANTRI BRODJONEGORO  - DATATEMPO https://t.co/Q2gQ3W8QyB\n",
      "\n",
      "Dokumen untuk Topik 2:\n",
      "- RT @datatempo: Ternyata ayahnya Menteri Pendidikan Tinggi, Sains, dan Teknologi (Mendiktisaintek) Satryo Soemantri Brodjonegoro pernah menj…\n",
      "- Ternyata ayahnya Menteri Pendidikan Tinggi, Sains, dan Teknologi (Mendiktisaintek) Satryo Soemantri Brodjonegoro pernah menjadi Rektor Universitas Indonesia, yaitu SOEMANTRI BRODJONEGORO  - DATATEMPO https://t.co/Q2gQ3W8QyB\n",
      "\n",
      "Dokumen untuk Topik 1:\n",
      "- Rektor Universitas Insan Citra Indonesia dalam sambutannya “Hari ini dgn bangga kami meluncurkan deposito wakaf UICI bersama BSI, sebuah bentuk inovasi keuangan syariah yang bertujuan mendukung keberlanjutan program pendidikan sosial dan mengembangkan sumber daya manusia di UICI”\n",
      "- Rektor Universitas Kesehatan dan Teknologi Kocaeli Prof. Dr. Muzaffer Elmas dan Ketua Dewan Pembina Talip Emiroğlu telah mengunjungi Duta Besar Talip Küçükcan dan memberikan informasi tentang kegiatan dan program mereka di Indonesia. https://t.co/B3N180iHWU\n",
      "\n",
      "Dokumen untuk Topik 0:\n",
      "- RT @datatempo: Ternyata ayahnya Menteri Pendidikan Tinggi, Sains, dan Teknologi (Mendiktisaintek) Satryo Soemantri Brodjonegoro pernah menj…\n",
      "- Ternyata ayahnya Menteri Pendidikan Tinggi, Sains, dan Teknologi (Mendiktisaintek) Satryo Soemantri Brodjonegoro pernah menjadi Rektor Universitas Indonesia, yaitu SOEMANTRI BRODJONEGORO  - DATATEMPO https://t.co/Q2gQ3W8QyB\n",
      "\n",
      "Dokumen untuk Topik 3:\n",
      "- RT @datatempo: Ternyata ayahnya Menteri Pendidikan Tinggi, Sains, dan Teknologi (Mendiktisaintek) Satryo Soemantri Brodjonegoro pernah menj…\n",
      "- Ternyata ayahnya Menteri Pendidikan Tinggi, Sains, dan Teknologi (Mendiktisaintek) Satryo Soemantri Brodjonegoro pernah menjadi Rektor Universitas Indonesia, yaitu SOEMANTRI BRODJONEGORO  - DATATEMPO https://t.co/Q2gQ3W8QyB\n"
     ]
    }
   ],
   "source": [
    "from collections import Counter\n",
    "\n",
    "# Menghitung frekuensi kemunculan setiap topik\n",
    "topic_counts = Counter()\n",
    "for doc_topics in topic_distribution:\n",
    "    for topic, _ in doc_topics:\n",
    "        topic_counts[topic] += 1\n",
    "\n",
    "# Menampilkan 5 topik teratas\n",
    "top_5_topics = topic_counts.most_common(5)\n",
    "print(\"5 Topik Paling Banyak Dibahas:\")\n",
    "for topic, count in top_5_topics:\n",
    "    print(f'Topik {topic}: {count} dokumen')\n",
    "\n",
    "# Menampilkan kata kunci untuk setiap topik\n",
    "print(\"\\nKata Kunci untuk Setiap Topik:\")\n",
    "for idx in range(5):  # Hanya untuk 5 topik teratas\n",
    "    print(f'Topik {idx}: {lda_model.print_topics(num_words=3)[idx][1]}')\n",
    "\n",
    "# Menampilkan dokumen yang paling relevan untuk setiap topik teratas\n",
    "print(\"\\nDokumen Relevan untuk Topik Teratas:\")\n",
    "for topic, _ in top_5_topics:\n",
    "    print(f'\\nDokumen untuk Topik {topic}:')\n",
    "    relevant_docs = [teks[i] for i, doc_topics in enumerate(topic_distribution) if any(t == topic for t, _ in doc_topics)]\n",
    "    for doc in relevant_docs[:2]:  # Menampilkan 3 dokumen relevan\n",
    "        print(f'- {doc}')"
   ]
  },
  {
   "cell_type": "code",
   "execution_count": 9,
   "metadata": {},
   "outputs": [
    {
     "data": {
      "text/html": [
       "\n",
       "<link rel=\"stylesheet\" type=\"text/css\" href=\"https://cdn.jsdelivr.net/gh/bmabey/pyLDAvis@3.4.0/pyLDAvis/js/ldavis.v1.0.0.css\">\n",
       "\n",
       "\n",
       "<div id=\"ldavis_el56042960841924560170960928\" style=\"background-color:white;\"></div>\n",
       "<script type=\"text/javascript\">\n",
       "\n",
       "var ldavis_el56042960841924560170960928_data = {\"mdsDat\": {\"x\": [-0.36819542008198575, 0.0737061223282411, 0.10834175733735228, 0.12464256194169983, 0.06150497847469248], \"y\": [0.020218847512273985, -0.3123782405605668, 0.1267716522035795, 0.1039292681718591, 0.061458472672854196], \"topics\": [1, 2, 3, 4, 5], \"cluster\": [1, 1, 1, 1, 1], \"Freq\": [52.99761860786263, 26.67445589181564, 8.952079594624003, 7.850586010604665, 3.525259895093059]}, \"tinfo\": {\"Term\": [\"univ_indonesia\", \"desa\", \"kampus\", \"riza\", \"wamendes\", \"ahmad\", \"keterlibatan\", \"percepatan\", \"patria\", \"pdt\", \"pembangunan\", \"kemendespdt\", \"disamp\", \"ui\", \"administrasi\", \"green\", \"ilmu\", \"fia\", \"fakultas\", \"berkonsep\", \"building\", \"meresmikan\", \"panel\", \"agusyudhoyono\", \"sur\", \"co\", \"https\", \"t\", \"indonesia\", \"rektor\", \"administrasi\", \"green\", \"ilmu\", \"fia\", \"fakultas\", \"berkonsep\", \"building\", \"meresmikan\", \"panel\", \"agusyudhoyono\", \"sur\", \"gedung\", \"univ_indonesia\", \"ui\", \"pakmenteriahy_\", \"mahasiswa\", \"ahy\", \"menko\", \"rt\", \"kemana\", \"gimana\", \"seribu\", \"tidur\", \"guru\", \"semu\", \"rakyat\", \"bospurwa\", \"bahasa\", \"diam\", \"negeri\", \"universitas\", \"indonesia\", \"desa\", \"riza\", \"wamendes\", \"ahmad\", \"keterlibatan\", \"patria\", \"percepatan\", \"pdt\", \"pembangunan\", \"kampus\", \"kemendespdt\", \"disamp\", \"dilantik\", \"kemenko\", \"pmk\", \"deputi\", \"mendikbud\", \"play\", \"anies\", \"gold\", \"dki\", \"youtube\", \"founder\", \"titik\", \"mengajar\", \"paramadina\", \"aniesbaswedan\", \"gubernur\", \"tekan\", \"button\", \"rt\", \"indonesia\", \"rektor\", \"selamat\", \"2025\", \"hermansyah\", \"heri\", \"pu\", \"civitas\", \"co\", \"https\", \"t\", \"republik\", \"njupjubsid\", \"dharma\", \"ri\", \"samudera\", \"akademik\", \"unhan\", \"pertahanan\", \"4ljcxdbcbo\", \"pd\", \"rukin\", \"s\", \"dilantiknya\", \"wakil\", \"al\", \"periode\", \"2030\", \"elh01lgsob\", \"ie\", \"rifa\", \"pertemuannya\", \"rektor\", \"indonesia\", \"universitas\", \"ui\", \"gedung\", \"soemantri\", \"pendidikan\", \"brodjonegoro\", \"teknologi\", \"mendiktisaintek\", \"ayahnya\", \"sains\", \"datatempo\", \"satryo\", \"uici\", \"program\", \"talip\", \"menj\", \"inovasi\", \"meluncurkan\", \"q2gq3w8qyb\", \"wakaf\", \"mengembangkan\", \"daya\", \"citra\", \"deposito\", \"bertujuan\", \"dgn\", \"bsi\", \"keberlanjutan\", \"mendukung\", \"keuangan\", \"sambutannya\", \"bentuk\", \"sumber\", \"menteri\", \"universitas\", \"rektor\", \"indonesia\", \"co\", \"t\", \"https\", \"pati\", \"ca\", \"kasih\", \"jd\", \"ccccaacaca\", \"paham\", \"lu\", \"perangkat\", \"diduga\", \"terpilih\", \"kpk_ri\", \"halo\", \"setor\", \"ubaidullah_sdq\", \"z3kleojgol\", \"dana\", \"projectm_org\", \"hariankompas\", \"ulil\", \"ratusan\", \"tes\", \"yg\", \"bangga\", \"insan\", \"manusia\", \"syariah\", \"sosial\", \"sumber\", \"bentuk\", \"sambutannya\", \"co\", \"t\", \"https\", \"rektor\", \"univ_indonesia\", \"ui\", \"kampus\", \"desa\"], \"Freq\": [39.0, 20.0, 20.0, 19.0, 19.0, 19.0, 19.0, 19.0, 19.0, 19.0, 19.0, 18.0, 18.0, 42.0, 40.0, 40.0, 40.0, 40.0, 40.0, 40.0, 40.0, 40.0, 38.0, 37.0, 37.0, 9.0, 9.0, 9.0, 11.0, 10.0, 39.962089953631065, 39.96211409950485, 39.96195473673787, 39.96195473673787, 39.96187988452915, 39.96188954287866, 39.96182676360682, 39.961768813509735, 38.153462594521145, 37.25155625858247, 37.25155625858247, 39.79766621150986, 37.247951279626484, 40.46740272725088, 1.9891206329696756, 1.9853099613513883, 2.393652302206821, 2.3132842704330696, 39.05905841997405, 1.0804344374958088, 1.0804339847606754, 1.0804339093048199, 1.0804339093048199, 1.0804339093048199, 1.0804339093048199, 1.0804337583931085, 1.080433682937253, 1.0804332302021196, 1.0804330038345529, 1.0804329283786973, 2.439825098439034, 2.343991332683051, 20.04263333877845, 19.214184148430153, 19.214165918987145, 19.214161057802343, 19.214157411913742, 19.214136751878335, 19.214134321285936, 19.214128244804936, 19.214058972921514, 20.023640689759088, 18.352674040247024, 18.35264851902682, 1.8975902237720073, 1.8975703232967263, 1.8975548282701715, 1.8973424552591571, 1.0387607551828435, 1.038760679226831, 1.0387606032708183, 1.0387606032708183, 1.0387603754027808, 1.0387602234907558, 1.0387602234907558, 1.0387602234907558, 1.0387601475347432, 1.0387601475347432, 1.0387599196667057, 1.038759843710693, 1.0387597677546807, 1.038759843710693, 18.359632826290337, 1.3091345369199825, 1.2875019607293705, 2.499171287448157, 1.7236475902589683, 1.7223856731893745, 1.7222914576615542, 1.71928634939757, 1.7039619490819344, 6.244497101184078, 6.241473231386415, 6.241019691702709, 0.940523126738273, 0.9405229228085591, 0.9405228208437022, 0.9405226169139883, 0.9405225149491313, 0.9405225149491313, 0.9405224129842744, 0.9405222090545605, 0.940420244197612, 0.940414432200766, 0.9404090280633477, 0.9403843525679663, 0.9403834348842537, 0.9403795602196896, 0.9403741560822714, 0.940372830539131, 0.9403682421205684, 0.9403680381908545, 0.9403549866891651, 0.9403510100597441, 0.9393384990302462, 5.395181640951028, 5.0853614231132385, 3.680247763437158, 1.2856064628436776, 1.0838586949206672, 2.4228702235342805, 2.422758628918628, 2.422850372568996, 2.422841609530267, 1.6659665088912785, 1.6658860320049904, 1.6658550931131508, 1.6658415014612442, 1.6658157488576322, 1.665343617791408, 1.6653146461123443, 1.6648493108720734, 0.9088582935383421, 0.9085782339740592, 0.9085771609489087, 0.9085689344227548, 0.9085158196778046, 0.9085075037328881, 0.9085066095452627, 0.9085012444195102, 0.9084837183420519, 0.9084805886853629, 0.908466907614694, 0.9084585022510149, 0.9084551937568008, 0.9084548360817507, 0.9084441058302456, 0.9084420491987071, 0.9084283681280381, 0.9084277421967003, 1.6659983419707438, 2.4267840827707627, 2.425899552371693, 2.4282503716389336, 1.664913871218629, 1.6649265686829102, 1.664913871218629, 1.3172514043515573, 0.7198039782407896, 0.7198032554872542, 0.7198030948753574, 0.7198029342634606, 0.7198028539575123, 0.7198026130396672, 0.7186658020344017, 0.7184958746476299, 0.7184647962456069, 0.7184537140247305, 0.7183848918269689, 0.7183704367562606, 0.7183669836004802, 0.7183626470792677, 0.7183475495609722, 0.7183270715441354, 0.7182935839636609, 0.7182880428532228, 0.7182512627288649, 0.7182331135845309, 0.7219972943029406, 0.12045342161234163, 0.12037890773048865, 0.12035577961735525, 0.120348752846872, 0.12033121603539455, 0.12031720264740227, 0.12031678104117327, 0.12030583935570652, 0.7100354020679654, 0.7100040827480972, 0.7098851496385467, 0.7194103987877799, 1.3221180251293256, 0.7207004335425541, 0.1588796271854822, 0.14568762850971123], \"Total\": [39.0, 20.0, 20.0, 19.0, 19.0, 19.0, 19.0, 19.0, 19.0, 19.0, 19.0, 18.0, 18.0, 42.0, 40.0, 40.0, 40.0, 40.0, 40.0, 40.0, 40.0, 40.0, 38.0, 37.0, 37.0, 9.0, 9.0, 9.0, 11.0, 10.0, 40.56649062241257, 40.56651584361927, 40.56646834405031, 40.566484420683885, 40.56645897504922, 40.566479793215436, 40.566489961957885, 40.56648450947695, 38.758048924190014, 37.85417908164926, 37.854181860798995, 41.32844523494446, 39.05303940237743, 42.80155122743908, 2.59050681802504, 2.5899875065189004, 3.4281137556582526, 3.417420995380554, 58.60034328047861, 1.6856743505915177, 1.6856741893261658, 1.6856742281818715, 1.685674278572602, 1.6856742971983425, 1.6856743309962747, 1.6856742704516887, 1.6856742513178316, 1.6856741447857024, 1.6856740347277244, 1.685674042676277, 8.841541720834664, 11.287366895765038, 20.681416884905005, 19.82713383966958, 19.82712528114502, 19.827123463285034, 19.827124784378622, 19.827120366159175, 19.82712185926154, 19.827116027701532, 19.8271021472091, 20.675572743800778, 18.96182745267697, 18.961817249122422, 2.5129110065770153, 2.51291243018625, 2.5129125144959916, 2.5129209616417207, 1.6478318448130687, 1.6478318156372807, 1.6478318243826209, 1.64783193863362, 1.647831765492378, 1.647831780554491, 1.6478317893802117, 1.647831801371225, 1.6478318678266368, 1.6478318745194611, 1.6478316874071848, 1.6478318217309535, 1.6478317456680658, 1.647831897229755, 58.60034328047861, 11.287366895765038, 10.033209409588034, 3.1344520958248334, 2.349798064308823, 2.3499366271829665, 2.3499707188083434, 2.3503844810766634, 2.351861059312964, 9.190785305408808, 9.191152636903466, 9.19115393304562, 1.5659625727541353, 1.5659625999329072, 1.5659626953752444, 1.5659625934454209, 1.5659625028331035, 1.5659625863883642, 1.5659625897224114, 1.5659624863801411, 1.5659595268495121, 1.5659593472709987, 1.5659591758444784, 1.5659584014956056, 1.565958377595396, 1.5659581919403416, 1.565957964484972, 1.5659579344257506, 1.5659578369927971, 1.5659578074921072, 1.5659573616254923, 1.565957274946455, 1.5660751316122676, 10.033209409588034, 11.287366895765038, 8.841541720834664, 42.80155122743908, 41.32844523494446, 3.0544170622087323, 3.054301885912286, 3.054417746137679, 3.054481732588764, 2.2969950588623544, 2.2969977425155212, 2.2969988903675724, 2.2969992329287865, 2.2970001973948193, 2.2967921488353396, 2.2970071099929577, 2.2971882282873834, 1.539578093145995, 1.5395191493347802, 1.5395189501457118, 1.5395887185927803, 1.5395060700158807, 1.539504327620428, 1.5395042273149504, 1.5395029539559328, 1.5394993556664207, 1.539498675230074, 1.5394959429021715, 1.5394941173505277, 1.5394934924599677, 1.5394934380330851, 1.539491106709841, 1.5394908124775135, 1.5394878768163713, 1.5394877869341748, 3.0810399138564004, 8.841541720834664, 10.033209409588034, 11.287366895765038, 9.190785305408808, 9.19115393304562, 9.191152636903466, 1.982926662942361, 1.382032218762594, 1.3820325430475466, 1.38203262297596, 1.382032621833874, 1.382032689392267, 1.382032696474241, 1.3825273169484662, 1.3826041777204614, 1.3826149121580342, 1.3826216926634223, 1.3826500679953326, 1.3826541880884555, 1.3826607815166043, 1.3826638399659226, 1.3826683183676174, 1.3826803244978252, 1.382692290681002, 1.3826974054399288, 1.3827132588128603, 1.38271777657007, 2.2844099120683525, 1.539452013798243, 1.5394715003256492, 1.5394776747091685, 1.5394795394333514, 1.5394841464728226, 1.5394877869341748, 1.5394878768163713, 1.5394908124775135, 9.190785305408808, 9.19115393304562, 9.191152636903466, 10.033209409588034, 39.05303940237743, 42.80155122743908, 20.675572743800778, 20.681416884905005], \"Category\": [\"Default\", \"Default\", \"Default\", \"Default\", \"Default\", \"Default\", \"Default\", \"Default\", \"Default\", \"Default\", \"Default\", \"Default\", \"Default\", \"Default\", \"Default\", \"Default\", \"Default\", \"Default\", \"Default\", \"Default\", \"Default\", \"Default\", \"Default\", \"Default\", \"Default\", \"Default\", \"Default\", \"Default\", \"Default\", \"Default\", \"Topic1\", \"Topic1\", \"Topic1\", \"Topic1\", \"Topic1\", \"Topic1\", \"Topic1\", \"Topic1\", \"Topic1\", \"Topic1\", \"Topic1\", \"Topic1\", \"Topic1\", \"Topic1\", \"Topic1\", \"Topic1\", \"Topic1\", \"Topic1\", \"Topic1\", \"Topic1\", \"Topic1\", \"Topic1\", \"Topic1\", \"Topic1\", \"Topic1\", \"Topic1\", \"Topic1\", \"Topic1\", \"Topic1\", \"Topic1\", \"Topic1\", \"Topic1\", \"Topic2\", \"Topic2\", \"Topic2\", \"Topic2\", \"Topic2\", \"Topic2\", \"Topic2\", \"Topic2\", \"Topic2\", \"Topic2\", \"Topic2\", \"Topic2\", \"Topic2\", \"Topic2\", \"Topic2\", \"Topic2\", \"Topic2\", \"Topic2\", \"Topic2\", \"Topic2\", \"Topic2\", \"Topic2\", \"Topic2\", \"Topic2\", \"Topic2\", \"Topic2\", \"Topic2\", \"Topic2\", \"Topic2\", \"Topic2\", \"Topic2\", \"Topic2\", \"Topic2\", \"Topic3\", \"Topic3\", \"Topic3\", \"Topic3\", \"Topic3\", \"Topic3\", \"Topic3\", \"Topic3\", \"Topic3\", \"Topic3\", \"Topic3\", \"Topic3\", \"Topic3\", \"Topic3\", \"Topic3\", \"Topic3\", \"Topic3\", \"Topic3\", \"Topic3\", \"Topic3\", \"Topic3\", \"Topic3\", \"Topic3\", \"Topic3\", \"Topic3\", \"Topic3\", \"Topic3\", \"Topic3\", \"Topic3\", \"Topic3\", \"Topic3\", \"Topic3\", \"Topic3\", \"Topic3\", \"Topic3\", \"Topic4\", \"Topic4\", \"Topic4\", \"Topic4\", \"Topic4\", \"Topic4\", \"Topic4\", \"Topic4\", \"Topic4\", \"Topic4\", \"Topic4\", \"Topic4\", \"Topic4\", \"Topic4\", \"Topic4\", \"Topic4\", \"Topic4\", \"Topic4\", \"Topic4\", \"Topic4\", \"Topic4\", \"Topic4\", \"Topic4\", \"Topic4\", \"Topic4\", \"Topic4\", \"Topic4\", \"Topic4\", \"Topic4\", \"Topic4\", \"Topic4\", \"Topic4\", \"Topic4\", \"Topic4\", \"Topic4\", \"Topic4\", \"Topic4\", \"Topic5\", \"Topic5\", \"Topic5\", \"Topic5\", \"Topic5\", \"Topic5\", \"Topic5\", \"Topic5\", \"Topic5\", \"Topic5\", \"Topic5\", \"Topic5\", \"Topic5\", \"Topic5\", \"Topic5\", \"Topic5\", \"Topic5\", \"Topic5\", \"Topic5\", \"Topic5\", \"Topic5\", \"Topic5\", \"Topic5\", \"Topic5\", \"Topic5\", \"Topic5\", \"Topic5\", \"Topic5\", \"Topic5\", \"Topic5\", \"Topic5\", \"Topic5\", \"Topic5\", \"Topic5\", \"Topic5\", \"Topic5\", \"Topic5\", \"Topic5\"], \"logprob\": [30.0, 29.0, 28.0, 27.0, 26.0, 25.0, 24.0, 23.0, 22.0, 21.0, 20.0, 19.0, 18.0, 17.0, 16.0, 15.0, 14.0, 13.0, 12.0, 11.0, 10.0, 9.0, 8.0, 7.0, 6.0, 5.0, 4.0, 3.0, 2.0, 1.0, -2.7862, -2.7862, -2.7862, -2.7862, -2.7862, -2.7862, -2.7862, -2.7862, -2.8325, -2.8564, -2.8564, -2.7903, -2.8565, -2.7736, -5.7864, -5.7884, -5.6013, -5.6355, -2.8091, -6.3968, -6.3968, -6.3968, -6.3968, -6.3968, -6.3968, -6.3968, -6.3968, -6.3968, -6.3968, -6.3968, -5.5822, -5.6223, -2.7897, -2.8319, -2.832, -2.832, -2.832, -2.832, -2.832, -2.832, -2.832, -2.7907, -2.8778, -2.8778, -5.147, -5.147, -5.147, -5.1471, -5.7496, -5.7496, -5.7496, -5.7496, -5.7496, -5.7496, -5.7496, -5.7496, -5.7496, -5.7496, -5.7496, -5.7496, -5.7496, -5.7496, -2.8774, -5.5182, -5.5349, -3.7798, -4.1513, -4.1521, -4.1521, -4.1539, -4.1628, -2.8641, -2.8646, -2.8646, -4.7571, -4.7571, -4.7571, -4.7571, -4.7571, -4.7571, -4.7571, -4.7571, -4.7572, -4.7572, -4.7572, -4.7572, -4.7572, -4.7572, -4.7573, -4.7573, -4.7573, -4.7573, -4.7573, -4.7573, -4.7584, -3.0103, -3.0694, -3.3928, -4.4445, -4.6153, -3.6795, -3.6796, -3.6795, -3.6795, -4.0541, -4.0541, -4.0541, -4.0541, -4.0542, -4.0544, -4.0545, -4.0547, -4.66, -4.6604, -4.6604, -4.6604, -4.6604, -4.6604, -4.6604, -4.6604, -4.6605, -4.6605, -4.6605, -4.6605, -4.6605, -4.6605, -4.6605, -4.6605, -4.6605, -4.6605, -4.0541, -3.6779, -3.6783, -3.6773, -4.0547, -4.0547, -4.0547, -3.4883, -4.0926, -4.0926, -4.0926, -4.0926, -4.0926, -4.0926, -4.0942, -4.0944, -4.0945, -4.0945, -4.0946, -4.0946, -4.0946, -4.0946, -4.0946, -4.0947, -4.0947, -4.0947, -4.0948, -4.0948, -4.0896, -5.8803, -5.881, -5.8811, -5.8812, -5.8814, -5.8815, -5.8815, -5.8816, -4.1063, -4.1063, -4.1065, -4.0932, -3.4846, -4.0914, -5.6035, -5.6901], \"loglift\": [30.0, 29.0, 28.0, 27.0, 26.0, 25.0, 24.0, 23.0, 22.0, 21.0, 20.0, 19.0, 18.0, 17.0, 16.0, 15.0, 14.0, 13.0, 12.0, 11.0, 10.0, 9.0, 8.0, 7.0, 6.0, 5.0, 4.0, 3.0, 2.0, 1.0, 0.6199, 0.6199, 0.6199, 0.6199, 0.6199, 0.6199, 0.6199, 0.6199, 0.6192, 0.6189, 0.6189, 0.5972, 0.5876, 0.5788, 0.3708, 0.369, 0.2757, 0.2447, 0.2293, 0.1901, 0.1901, 0.1901, 0.1901, 0.1901, 0.1901, 0.1901, 0.1901, 0.1901, 0.1901, 0.1901, -0.6526, -0.9369, 1.2901, 1.2901, 1.2901, 1.2901, 1.2901, 1.2901, 1.2901, 1.2901, 1.2901, 1.2894, 1.2888, 1.2888, 1.0406, 1.0406, 1.0406, 1.0405, 0.86, 0.86, 0.86, 0.86, 0.86, 0.86, 0.86, 0.86, 0.86, 0.86, 0.86, 0.86, 0.86, 0.86, 0.1609, -0.8329, -0.7317, 2.1868, 2.1034, 2.1026, 2.1025, 2.1006, 2.091, 2.0268, 2.0263, 2.0262, 1.9035, 1.9035, 1.9035, 1.9035, 1.9035, 1.9035, 1.9035, 1.9035, 1.9034, 1.9034, 1.9033, 1.9033, 1.9033, 1.9033, 1.9033, 1.9033, 1.9033, 1.9033, 1.9033, 1.9033, 1.9021, 1.7929, 1.616, 1.5368, -1.0921, -1.2277, 2.3129, 2.3129, 2.3129, 2.3129, 2.2234, 2.2233, 2.2233, 2.2233, 2.2233, 2.2231, 2.223, 2.2226, 2.0175, 2.0172, 2.0172, 2.0172, 2.0172, 2.0172, 2.0172, 2.0172, 2.0171, 2.0171, 2.0171, 2.0171, 2.0171, 2.0171, 2.0171, 2.0171, 2.0171, 2.0171, 1.9297, 1.2517, 1.1249, 1.0081, 0.8362, 0.8361, 0.8361, 2.9362, 2.6929, 2.6929, 2.6929, 2.6929, 2.6929, 2.6929, 2.6909, 2.6907, 2.6906, 2.6906, 2.6905, 2.6904, 2.6904, 2.6904, 2.6904, 2.6904, 2.6903, 2.6903, 2.6902, 2.6902, 2.1934, 0.7973, 0.7967, 0.7965, 0.7964, 0.7963, 0.7961, 0.7961, 0.796, 0.7846, 0.7845, 0.7843, 0.71, -0.0405, -0.7389, -1.5233, -1.6103]}, \"token.table\": {\"Topic\": [3, 3, 3, 1, 1, 2, 1, 3, 3, 3, 2, 2, 4, 1, 4, 4, 1, 4, 1, 4, 4, 1, 2, 5, 5, 4, 3, 3, 4, 5, 5, 4, 4, 4, 2, 2, 4, 3, 1, 5, 2, 3, 2, 2, 3, 1, 1, 2, 1, 3, 1, 2, 1, 2, 1, 5, 5, 3, 3, 3, 4, 5, 3, 1, 1, 2, 3, 4, 4, 4, 5, 2, 5, 4, 1, 2, 2, 2, 4, 5, 5, 1, 4, 4, 2, 4, 4, 2, 4, 4, 1, 3, 3, 4, 1, 1, 3, 5, 1, 1, 2, 5, 2, 3, 2, 2, 4, 5, 2, 3, 3, 3, 2, 2, 4, 5, 3, 4, 1, 5, 2, 3, 4, 5, 3, 3, 3, 2, 1, 2, 4, 3, 3, 4, 4, 3, 4, 3, 1, 1, 5, 4, 4, 4, 1, 4, 3, 4, 5, 4, 2, 4, 5, 5, 1, 2, 5, 1, 3, 5, 4, 5, 3, 1, 5, 1, 3, 4, 4, 3, 2, 1, 5, 2, 5], \"Freq\": [0.8511369680561407, 0.6385867974072406, 0.6385861082960795, 0.9860355033496638, 0.9774350123983182, 0.9582832343372116, 0.5834112116900765, 0.29170560584503824, 0.6385848606423835, 0.6385867454168159, 0.6068580453437119, 0.6068580957885759, 0.8707017699589601, 0.5932344653284866, 0.6495817934153924, 0.6495666611340772, 0.9860357665712425, 0.6495621049174027, 0.5932344278369424, 0.6547892810435004, 0.6495640280334438, 0.9860355194031053, 0.6068580185158119, 0.7235721327071177, 0.7235719216765377, 0.6495602995956474, 0.8503903715231583, 0.652827783548483, 0.2176092611828277, 0.10880463059141385, 0.7232392517538864, 0.8707012050021027, 0.6495597623295262, 0.6495618178203905, 0.7958865521553756, 0.9670517310928364, 0.6495632577730969, 0.6385848161985587, 0.5932345040608775, 0.7232728036803189, 0.7958897051130825, 0.6385865769533082, 0.9492761038414218, 0.6068580670316163, 0.6385868094374185, 0.9860362725916593, 0.9860356540929377, 0.6068580582342834, 0.9678563946116894, 0.024196409865292236, 0.5932344496534895, 0.6068580032677353, 0.9860348903069924, 0.6068580463202591, 0.5932344116903483, 0.7232487981936552, 0.7232267126530959, 0.8510744342440949, 0.8510867811773886, 0.6528016927832702, 0.21760056426109006, 0.10880028213054503, 0.6385869912588052, 0.9860360448623231, 0.1771892433788424, 0.0885946216894212, 0.44297310844710597, 0.1771892433788424, 0.649553466374287, 0.6495735710524468, 0.7235719210785914, 0.9673250771733355, 0.7235719629256202, 0.649564291695766, 0.5932343928998453, 0.9492755930261784, 0.7958892542275201, 0.958283170486207, 0.649565298325869, 0.7232636413172742, 0.7235718825981035, 0.7722044971128532, 0.6495709658075527, 0.649553550416091, 0.6068580378196543, 0.8707027872278277, 0.6495643146603065, 0.606858029344294, 0.6495597200078509, 0.6495285977709557, 0.5852366456176951, 0.29261832280884753, 0.32456574012647066, 0.6491314802529413, 0.986035651934675, 0.5932345012635658, 0.638584855119046, 0.7235718863059155, 0.7720496954818931, 0.9804415096933093, 0.606858026879483, 0.5043050853510399, 0.9582833840273195, 0.6385861815268081, 0.9582835937134819, 0.9582842645855071, 0.6548141194637093, 0.7233130135954305, 0.9582833118627766, 0.6385867576747571, 0.6385849014248018, 0.6385389690534862, 0.6068580485644168, 0.7958892275249522, 0.8706982191300799, 0.7232329717016761, 0.850924610889126, 0.6495241150597824, 0.5932344211032199, 0.7232157452938277, 0.09966900511857853, 0.4983450255928926, 0.19933801023715705, 0.09966900511857853, 0.6385848662022943, 0.638584857764582, 0.6385870266059418, 0.9582827328267349, 0.6655251115737402, 0.307165436110957, 0.017064746450608723, 0.6385862514332328, 0.6385865672069746, 0.8707013348534767, 0.6495654224728323, 0.6385848947154372, 0.870700839411478, 0.6380700482435347, 0.5932343997959414, 0.5932344359791135, 0.7232466430254105, 0.6547894276604602, 0.6495682351072873, 0.6495666990586901, 0.9774349406377326, 0.6495701790022348, 0.6528016007247759, 0.2176005335749253, 0.10880026678746264, 0.8706295702599236, 0.6068580743324489, 0.6547755642673104, 0.7232671882868417, 0.7232133823292352, 0.5932344182452506, 0.6068580538182726, 0.7232431941138349, 0.934545567926915, 0.023363639198172876, 0.023363639198172876, 0.8707797094369913, 0.7232240373531568, 0.6385848592827903, 0.9474294591715582, 0.025606201599231302, 0.22620489312255315, 0.4524097862451063, 0.22620489312255315, 0.6495589848435509, 0.6385866526621147, 0.9582831464765298, 0.4377498078243668, 0.4377498078243668, 0.6068580614845908, 0.7232415943015088], \"Term\": [\"2025\", \"2030\", \"4ljcxdbcbo\", \"administrasi\", \"agusyudhoyono\", \"ahmad\", \"ahy\", \"ahy\", \"akademik\", \"al\", \"anies\", \"aniesbaswedan\", \"ayahnya\", \"bahasa\", \"bangga\", \"bentuk\", \"berkonsep\", \"bertujuan\", \"bospurwa\", \"brodjonegoro\", \"bsi\", \"building\", \"button\", \"ca\", \"ccccaacaca\", \"citra\", \"civitas\", \"co\", \"co\", \"co\", \"dana\", \"datatempo\", \"daya\", \"deposito\", \"deputi\", \"desa\", \"dgn\", \"dharma\", \"diam\", \"diduga\", \"dilantik\", \"dilantiknya\", \"disamp\", \"dki\", \"elh01lgsob\", \"fakultas\", \"fia\", \"founder\", \"gedung\", \"gedung\", \"gimana\", \"gold\", \"green\", \"gubernur\", \"guru\", \"halo\", \"hariankompas\", \"heri\", \"hermansyah\", \"https\", \"https\", \"https\", \"ie\", \"ilmu\", \"indonesia\", \"indonesia\", \"indonesia\", \"indonesia\", \"inovasi\", \"insan\", \"jd\", \"kampus\", \"kasih\", \"keberlanjutan\", \"kemana\", \"kemendespdt\", \"kemenko\", \"keterlibatan\", \"keuangan\", \"kpk_ri\", \"lu\", \"mahasiswa\", \"manusia\", \"meluncurkan\", \"mendikbud\", \"mendiktisaintek\", \"mendukung\", \"mengajar\", \"mengembangkan\", \"menj\", \"menko\", \"menko\", \"menteri\", \"menteri\", \"meresmikan\", \"negeri\", \"njupjubsid\", \"paham\", \"pakmenteriahy_\", \"panel\", \"paramadina\", \"pati\", \"patria\", \"pd\", \"pdt\", \"pembangunan\", \"pendidikan\", \"perangkat\", \"percepatan\", \"periode\", \"pertahanan\", \"pertemuannya\", \"play\", \"pmk\", \"program\", \"projectm_org\", \"pu\", \"q2gq3w8qyb\", \"rakyat\", \"ratusan\", \"rektor\", \"rektor\", \"rektor\", \"rektor\", \"republik\", \"ri\", \"rifa\", \"riza\", \"rt\", \"rt\", \"rt\", \"rukin\", \"s\", \"sains\", \"sambutannya\", \"samudera\", \"satryo\", \"selamat\", \"semu\", \"seribu\", \"setor\", \"soemantri\", \"sosial\", \"sumber\", \"sur\", \"syariah\", \"t\", \"t\", \"t\", \"talip\", \"tekan\", \"teknologi\", \"terpilih\", \"tes\", \"tidur\", \"titik\", \"ubaidullah_sdq\", \"ui\", \"ui\", \"ui\", \"uici\", \"ulil\", \"unhan\", \"univ_indonesia\", \"univ_indonesia\", \"universitas\", \"universitas\", \"universitas\", \"wakaf\", \"wakil\", \"wamendes\", \"yg\", \"yg\", \"youtube\", \"z3kleojgol\"]}, \"R\": 30, \"lambda.step\": 0.01, \"plot.opts\": {\"xlab\": \"PC1\", \"ylab\": \"PC2\"}, \"topic.order\": [1, 3, 5, 2, 4]};\n",
       "\n",
       "function LDAvis_load_lib(url, callback){\n",
       "  var s = document.createElement('script');\n",
       "  s.src = url;\n",
       "  s.async = true;\n",
       "  s.onreadystatechange = s.onload = callback;\n",
       "  s.onerror = function(){console.warn(\"failed to load library \" + url);};\n",
       "  document.getElementsByTagName(\"head\")[0].appendChild(s);\n",
       "}\n",
       "\n",
       "if(typeof(LDAvis) !== \"undefined\"){\n",
       "   // already loaded: just create the visualization\n",
       "   !function(LDAvis){\n",
       "       new LDAvis(\"#\" + \"ldavis_el56042960841924560170960928\", ldavis_el56042960841924560170960928_data);\n",
       "   }(LDAvis);\n",
       "}else if(typeof define === \"function\" && define.amd){\n",
       "   // require.js is available: use it to load d3/LDAvis\n",
       "   require.config({paths: {d3: \"https://d3js.org/d3.v5\"}});\n",
       "   require([\"d3\"], function(d3){\n",
       "      window.d3 = d3;\n",
       "      LDAvis_load_lib(\"https://cdn.jsdelivr.net/gh/bmabey/pyLDAvis@3.4.0/pyLDAvis/js/ldavis.v3.0.0.js\", function(){\n",
       "        new LDAvis(\"#\" + \"ldavis_el56042960841924560170960928\", ldavis_el56042960841924560170960928_data);\n",
       "      });\n",
       "    });\n",
       "}else{\n",
       "    // require.js not available: dynamically load d3 & LDAvis\n",
       "    LDAvis_load_lib(\"https://d3js.org/d3.v5.js\", function(){\n",
       "         LDAvis_load_lib(\"https://cdn.jsdelivr.net/gh/bmabey/pyLDAvis@3.4.0/pyLDAvis/js/ldavis.v3.0.0.js\", function(){\n",
       "                 new LDAvis(\"#\" + \"ldavis_el56042960841924560170960928\", ldavis_el56042960841924560170960928_data);\n",
       "            })\n",
       "         });\n",
       "}\n",
       "</script>"
      ],
      "text/plain": [
       "<IPython.core.display.HTML object>"
      ]
     },
     "execution_count": 9,
     "metadata": {},
     "output_type": "execute_result"
    }
   ],
   "source": [
    "import pyLDAvis.gensim_models\n",
    "import pyLDAvis\n",
    "\n",
    "# Visualisasi model LDA\n",
    "vis = pyLDAvis.gensim_models.prepare(lda_model, corpus, dictionary)\n",
    "pyLDAvis.display(vis)"
   ]
  },
  {
   "cell_type": "code",
   "execution_count": 10,
   "metadata": {},
   "outputs": [
    {
     "name": "stdout",
     "output_type": "stream",
     "text": [
      "Topik 0: 0.062*\"ui\" + 0.062*\"green\" + 0.062*\"administrasi\" + 0.062*\"fia\" + 0.062*\"ilmu\" + 0.062*\"berkonsep\" + 0.062*\"fakultas\" + 0.062*\"building\" + 0.062*\"meresmikan\" + 0.061*\"gedung\"\n",
      "Topik 1: 0.025*\"indonesia\" + 0.025*\"universitas\" + 0.025*\"rektor\" + 0.025*\"soemantri\" + 0.025*\"brodjonegoro\" + 0.025*\"teknologi\" + 0.025*\"pendidikan\" + 0.017*\"menteri\" + 0.017*\"mendiktisaintek\" + 0.017*\"ayahnya\"\n",
      "Topik 2: 0.061*\"desa\" + 0.061*\"kampus\" + 0.059*\"riza\" + 0.059*\"wamendes\" + 0.059*\"ahmad\" + 0.059*\"keterlibatan\" + 0.059*\"patria\" + 0.059*\"percepatan\" + 0.059*\"pdt\" + 0.059*\"pembangunan\"\n",
      "Topik 3: 0.031*\"univ_indonesia\" + 0.031*\"pati\" + 0.017*\"yg\" + 0.017*\"ui\" + 0.017*\"ca\" + 0.017*\"kasih\" + 0.017*\"jd\" + 0.017*\"ccccaacaca\" + 0.017*\"paham\" + 0.017*\"lu\"\n",
      "Topik 4: 0.057*\"co\" + 0.057*\"https\" + 0.057*\"t\" + 0.049*\"rektor\" + 0.046*\"indonesia\" + 0.034*\"universitas\" + 0.023*\"selamat\" + 0.016*\"2025\" + 0.016*\"hermansyah\" + 0.016*\"heri\"\n"
     ]
    }
   ],
   "source": [
    "for idx, topic in lda_model.print_topics(num_words=10):\n",
    "    print(f'Topik {idx}: {topic}')"
   ]
  }
 ],
 "metadata": {
  "kernelspec": {
   "display_name": "Python 3",
   "language": "python",
   "name": "python3"
  },
  "language_info": {
   "codemirror_mode": {
    "name": "ipython",
    "version": 3
   },
   "file_extension": ".py",
   "mimetype": "text/x-python",
   "name": "python",
   "nbconvert_exporter": "python",
   "pygments_lexer": "ipython3",
   "version": "3.12.3"
  }
 },
 "nbformat": 4,
 "nbformat_minor": 2
}
